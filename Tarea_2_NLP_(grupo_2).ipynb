{
  "nbformat": 4,
  "nbformat_minor": 0,
  "metadata": {
    "colab": {
      "provenance": [],
      "include_colab_link": true
    },
    "kernelspec": {
      "name": "python3",
      "display_name": "Python 3"
    },
    "language_info": {
      "name": "python"
    },
    "gpuClass": "standard",
    "accelerator": "GPU",
    "widgets": {
      "application/vnd.jupyter.widget-state+json": {
        "f2bb5074ee744a63a22f536863256139": {
          "model_module": "@jupyter-widgets/controls",
          "model_name": "HBoxModel",
          "model_module_version": "1.5.0",
          "state": {
            "_dom_classes": [],
            "_model_module": "@jupyter-widgets/controls",
            "_model_module_version": "1.5.0",
            "_model_name": "HBoxModel",
            "_view_count": null,
            "_view_module": "@jupyter-widgets/controls",
            "_view_module_version": "1.5.0",
            "_view_name": "HBoxView",
            "box_style": "",
            "children": [
              "IPY_MODEL_430e30222ca34a5f8bd934694429603e",
              "IPY_MODEL_575ac5f734ff44c8ae098ead9bde9e4d",
              "IPY_MODEL_21c4a06a57a243359c5c5e45efac6d49"
            ],
            "layout": "IPY_MODEL_77c5e2856ada401eb35fea33513b1e34"
          }
        },
        "430e30222ca34a5f8bd934694429603e": {
          "model_module": "@jupyter-widgets/controls",
          "model_name": "HTMLModel",
          "model_module_version": "1.5.0",
          "state": {
            "_dom_classes": [],
            "_model_module": "@jupyter-widgets/controls",
            "_model_module_version": "1.5.0",
            "_model_name": "HTMLModel",
            "_view_count": null,
            "_view_module": "@jupyter-widgets/controls",
            "_view_module_version": "1.5.0",
            "_view_name": "HTMLView",
            "description": "",
            "description_tooltip": null,
            "layout": "IPY_MODEL_4cf74e4f2c7c400f8c8abbd583d49055",
            "placeholder": "​",
            "style": "IPY_MODEL_0e080f8dd7b34a5ba3a2fa2e349127cf",
            "value": "100%"
          }
        },
        "575ac5f734ff44c8ae098ead9bde9e4d": {
          "model_module": "@jupyter-widgets/controls",
          "model_name": "FloatProgressModel",
          "model_module_version": "1.5.0",
          "state": {
            "_dom_classes": [],
            "_model_module": "@jupyter-widgets/controls",
            "_model_module_version": "1.5.0",
            "_model_name": "FloatProgressModel",
            "_view_count": null,
            "_view_module": "@jupyter-widgets/controls",
            "_view_module_version": "1.5.0",
            "_view_name": "ProgressView",
            "bar_style": "success",
            "description": "",
            "description_tooltip": null,
            "layout": "IPY_MODEL_90bf0bc0847d4413b5aa5ca58565e957",
            "max": 1,
            "min": 0,
            "orientation": "horizontal",
            "style": "IPY_MODEL_9e027f76e69c4c6285693960c7bf54c5",
            "value": 1
          }
        },
        "21c4a06a57a243359c5c5e45efac6d49": {
          "model_module": "@jupyter-widgets/controls",
          "model_name": "HTMLModel",
          "model_module_version": "1.5.0",
          "state": {
            "_dom_classes": [],
            "_model_module": "@jupyter-widgets/controls",
            "_model_module_version": "1.5.0",
            "_model_name": "HTMLModel",
            "_view_count": null,
            "_view_module": "@jupyter-widgets/controls",
            "_view_module_version": "1.5.0",
            "_view_name": "HTMLView",
            "description": "",
            "description_tooltip": null,
            "layout": "IPY_MODEL_0aaaa43ddb824b89a65f6ac98fb650a5",
            "placeholder": "​",
            "style": "IPY_MODEL_1228315a0ad540ae9241106f466edf7d",
            "value": " 1/1 [00:00&lt;00:00, 16.26ba/s]"
          }
        },
        "77c5e2856ada401eb35fea33513b1e34": {
          "model_module": "@jupyter-widgets/base",
          "model_name": "LayoutModel",
          "model_module_version": "1.2.0",
          "state": {
            "_model_module": "@jupyter-widgets/base",
            "_model_module_version": "1.2.0",
            "_model_name": "LayoutModel",
            "_view_count": null,
            "_view_module": "@jupyter-widgets/base",
            "_view_module_version": "1.2.0",
            "_view_name": "LayoutView",
            "align_content": null,
            "align_items": null,
            "align_self": null,
            "border": null,
            "bottom": null,
            "display": null,
            "flex": null,
            "flex_flow": null,
            "grid_area": null,
            "grid_auto_columns": null,
            "grid_auto_flow": null,
            "grid_auto_rows": null,
            "grid_column": null,
            "grid_gap": null,
            "grid_row": null,
            "grid_template_areas": null,
            "grid_template_columns": null,
            "grid_template_rows": null,
            "height": null,
            "justify_content": null,
            "justify_items": null,
            "left": null,
            "margin": null,
            "max_height": null,
            "max_width": null,
            "min_height": null,
            "min_width": null,
            "object_fit": null,
            "object_position": null,
            "order": null,
            "overflow": null,
            "overflow_x": null,
            "overflow_y": null,
            "padding": null,
            "right": null,
            "top": null,
            "visibility": null,
            "width": null
          }
        },
        "4cf74e4f2c7c400f8c8abbd583d49055": {
          "model_module": "@jupyter-widgets/base",
          "model_name": "LayoutModel",
          "model_module_version": "1.2.0",
          "state": {
            "_model_module": "@jupyter-widgets/base",
            "_model_module_version": "1.2.0",
            "_model_name": "LayoutModel",
            "_view_count": null,
            "_view_module": "@jupyter-widgets/base",
            "_view_module_version": "1.2.0",
            "_view_name": "LayoutView",
            "align_content": null,
            "align_items": null,
            "align_self": null,
            "border": null,
            "bottom": null,
            "display": null,
            "flex": null,
            "flex_flow": null,
            "grid_area": null,
            "grid_auto_columns": null,
            "grid_auto_flow": null,
            "grid_auto_rows": null,
            "grid_column": null,
            "grid_gap": null,
            "grid_row": null,
            "grid_template_areas": null,
            "grid_template_columns": null,
            "grid_template_rows": null,
            "height": null,
            "justify_content": null,
            "justify_items": null,
            "left": null,
            "margin": null,
            "max_height": null,
            "max_width": null,
            "min_height": null,
            "min_width": null,
            "object_fit": null,
            "object_position": null,
            "order": null,
            "overflow": null,
            "overflow_x": null,
            "overflow_y": null,
            "padding": null,
            "right": null,
            "top": null,
            "visibility": null,
            "width": null
          }
        },
        "0e080f8dd7b34a5ba3a2fa2e349127cf": {
          "model_module": "@jupyter-widgets/controls",
          "model_name": "DescriptionStyleModel",
          "model_module_version": "1.5.0",
          "state": {
            "_model_module": "@jupyter-widgets/controls",
            "_model_module_version": "1.5.0",
            "_model_name": "DescriptionStyleModel",
            "_view_count": null,
            "_view_module": "@jupyter-widgets/base",
            "_view_module_version": "1.2.0",
            "_view_name": "StyleView",
            "description_width": ""
          }
        },
        "90bf0bc0847d4413b5aa5ca58565e957": {
          "model_module": "@jupyter-widgets/base",
          "model_name": "LayoutModel",
          "model_module_version": "1.2.0",
          "state": {
            "_model_module": "@jupyter-widgets/base",
            "_model_module_version": "1.2.0",
            "_model_name": "LayoutModel",
            "_view_count": null,
            "_view_module": "@jupyter-widgets/base",
            "_view_module_version": "1.2.0",
            "_view_name": "LayoutView",
            "align_content": null,
            "align_items": null,
            "align_self": null,
            "border": null,
            "bottom": null,
            "display": null,
            "flex": null,
            "flex_flow": null,
            "grid_area": null,
            "grid_auto_columns": null,
            "grid_auto_flow": null,
            "grid_auto_rows": null,
            "grid_column": null,
            "grid_gap": null,
            "grid_row": null,
            "grid_template_areas": null,
            "grid_template_columns": null,
            "grid_template_rows": null,
            "height": null,
            "justify_content": null,
            "justify_items": null,
            "left": null,
            "margin": null,
            "max_height": null,
            "max_width": null,
            "min_height": null,
            "min_width": null,
            "object_fit": null,
            "object_position": null,
            "order": null,
            "overflow": null,
            "overflow_x": null,
            "overflow_y": null,
            "padding": null,
            "right": null,
            "top": null,
            "visibility": null,
            "width": null
          }
        },
        "9e027f76e69c4c6285693960c7bf54c5": {
          "model_module": "@jupyter-widgets/controls",
          "model_name": "ProgressStyleModel",
          "model_module_version": "1.5.0",
          "state": {
            "_model_module": "@jupyter-widgets/controls",
            "_model_module_version": "1.5.0",
            "_model_name": "ProgressStyleModel",
            "_view_count": null,
            "_view_module": "@jupyter-widgets/base",
            "_view_module_version": "1.2.0",
            "_view_name": "StyleView",
            "bar_color": null,
            "description_width": ""
          }
        },
        "0aaaa43ddb824b89a65f6ac98fb650a5": {
          "model_module": "@jupyter-widgets/base",
          "model_name": "LayoutModel",
          "model_module_version": "1.2.0",
          "state": {
            "_model_module": "@jupyter-widgets/base",
            "_model_module_version": "1.2.0",
            "_model_name": "LayoutModel",
            "_view_count": null,
            "_view_module": "@jupyter-widgets/base",
            "_view_module_version": "1.2.0",
            "_view_name": "LayoutView",
            "align_content": null,
            "align_items": null,
            "align_self": null,
            "border": null,
            "bottom": null,
            "display": null,
            "flex": null,
            "flex_flow": null,
            "grid_area": null,
            "grid_auto_columns": null,
            "grid_auto_flow": null,
            "grid_auto_rows": null,
            "grid_column": null,
            "grid_gap": null,
            "grid_row": null,
            "grid_template_areas": null,
            "grid_template_columns": null,
            "grid_template_rows": null,
            "height": null,
            "justify_content": null,
            "justify_items": null,
            "left": null,
            "margin": null,
            "max_height": null,
            "max_width": null,
            "min_height": null,
            "min_width": null,
            "object_fit": null,
            "object_position": null,
            "order": null,
            "overflow": null,
            "overflow_x": null,
            "overflow_y": null,
            "padding": null,
            "right": null,
            "top": null,
            "visibility": null,
            "width": null
          }
        },
        "1228315a0ad540ae9241106f466edf7d": {
          "model_module": "@jupyter-widgets/controls",
          "model_name": "DescriptionStyleModel",
          "model_module_version": "1.5.0",
          "state": {
            "_model_module": "@jupyter-widgets/controls",
            "_model_module_version": "1.5.0",
            "_model_name": "DescriptionStyleModel",
            "_view_count": null,
            "_view_module": "@jupyter-widgets/base",
            "_view_module_version": "1.2.0",
            "_view_name": "StyleView",
            "description_width": ""
          }
        },
        "b112df5fc708491a8432f0df4bbfa4be": {
          "model_module": "@jupyter-widgets/controls",
          "model_name": "HBoxModel",
          "model_module_version": "1.5.0",
          "state": {
            "_dom_classes": [],
            "_model_module": "@jupyter-widgets/controls",
            "_model_module_version": "1.5.0",
            "_model_name": "HBoxModel",
            "_view_count": null,
            "_view_module": "@jupyter-widgets/controls",
            "_view_module_version": "1.5.0",
            "_view_name": "HBoxView",
            "box_style": "",
            "children": [
              "IPY_MODEL_e8ce4b80ec2b4694aa7dc8edd47143e9",
              "IPY_MODEL_0d1f64a93508491eb3a76ff0f52e48c1",
              "IPY_MODEL_80957e71c9d9498ca16885dcb6563f84"
            ],
            "layout": "IPY_MODEL_3ef4e5073efa41feb5d05ee1c15a867f"
          }
        },
        "e8ce4b80ec2b4694aa7dc8edd47143e9": {
          "model_module": "@jupyter-widgets/controls",
          "model_name": "HTMLModel",
          "model_module_version": "1.5.0",
          "state": {
            "_dom_classes": [],
            "_model_module": "@jupyter-widgets/controls",
            "_model_module_version": "1.5.0",
            "_model_name": "HTMLModel",
            "_view_count": null,
            "_view_module": "@jupyter-widgets/controls",
            "_view_module_version": "1.5.0",
            "_view_name": "HTMLView",
            "description": "",
            "description_tooltip": null,
            "layout": "IPY_MODEL_8153d42ffb8346f2bf33f807a0f36976",
            "placeholder": "​",
            "style": "IPY_MODEL_13c51575b86541d6a339fefaac8789ba",
            "value": "100%"
          }
        },
        "0d1f64a93508491eb3a76ff0f52e48c1": {
          "model_module": "@jupyter-widgets/controls",
          "model_name": "FloatProgressModel",
          "model_module_version": "1.5.0",
          "state": {
            "_dom_classes": [],
            "_model_module": "@jupyter-widgets/controls",
            "_model_module_version": "1.5.0",
            "_model_name": "FloatProgressModel",
            "_view_count": null,
            "_view_module": "@jupyter-widgets/controls",
            "_view_module_version": "1.5.0",
            "_view_name": "ProgressView",
            "bar_style": "success",
            "description": "",
            "description_tooltip": null,
            "layout": "IPY_MODEL_1181f08c69a84253a2f6181cf3764d54",
            "max": 1,
            "min": 0,
            "orientation": "horizontal",
            "style": "IPY_MODEL_771c60b1195e45049a9363f031e5e098",
            "value": 1
          }
        },
        "80957e71c9d9498ca16885dcb6563f84": {
          "model_module": "@jupyter-widgets/controls",
          "model_name": "HTMLModel",
          "model_module_version": "1.5.0",
          "state": {
            "_dom_classes": [],
            "_model_module": "@jupyter-widgets/controls",
            "_model_module_version": "1.5.0",
            "_model_name": "HTMLModel",
            "_view_count": null,
            "_view_module": "@jupyter-widgets/controls",
            "_view_module_version": "1.5.0",
            "_view_name": "HTMLView",
            "description": "",
            "description_tooltip": null,
            "layout": "IPY_MODEL_d4b513963a194b9cbc6c041fffe71e7b",
            "placeholder": "​",
            "style": "IPY_MODEL_4afadfd67e65484e9de75310adbc8be8",
            "value": " 1/1 [00:00&lt;00:00, 17.88ba/s]"
          }
        },
        "3ef4e5073efa41feb5d05ee1c15a867f": {
          "model_module": "@jupyter-widgets/base",
          "model_name": "LayoutModel",
          "model_module_version": "1.2.0",
          "state": {
            "_model_module": "@jupyter-widgets/base",
            "_model_module_version": "1.2.0",
            "_model_name": "LayoutModel",
            "_view_count": null,
            "_view_module": "@jupyter-widgets/base",
            "_view_module_version": "1.2.0",
            "_view_name": "LayoutView",
            "align_content": null,
            "align_items": null,
            "align_self": null,
            "border": null,
            "bottom": null,
            "display": null,
            "flex": null,
            "flex_flow": null,
            "grid_area": null,
            "grid_auto_columns": null,
            "grid_auto_flow": null,
            "grid_auto_rows": null,
            "grid_column": null,
            "grid_gap": null,
            "grid_row": null,
            "grid_template_areas": null,
            "grid_template_columns": null,
            "grid_template_rows": null,
            "height": null,
            "justify_content": null,
            "justify_items": null,
            "left": null,
            "margin": null,
            "max_height": null,
            "max_width": null,
            "min_height": null,
            "min_width": null,
            "object_fit": null,
            "object_position": null,
            "order": null,
            "overflow": null,
            "overflow_x": null,
            "overflow_y": null,
            "padding": null,
            "right": null,
            "top": null,
            "visibility": null,
            "width": null
          }
        },
        "8153d42ffb8346f2bf33f807a0f36976": {
          "model_module": "@jupyter-widgets/base",
          "model_name": "LayoutModel",
          "model_module_version": "1.2.0",
          "state": {
            "_model_module": "@jupyter-widgets/base",
            "_model_module_version": "1.2.0",
            "_model_name": "LayoutModel",
            "_view_count": null,
            "_view_module": "@jupyter-widgets/base",
            "_view_module_version": "1.2.0",
            "_view_name": "LayoutView",
            "align_content": null,
            "align_items": null,
            "align_self": null,
            "border": null,
            "bottom": null,
            "display": null,
            "flex": null,
            "flex_flow": null,
            "grid_area": null,
            "grid_auto_columns": null,
            "grid_auto_flow": null,
            "grid_auto_rows": null,
            "grid_column": null,
            "grid_gap": null,
            "grid_row": null,
            "grid_template_areas": null,
            "grid_template_columns": null,
            "grid_template_rows": null,
            "height": null,
            "justify_content": null,
            "justify_items": null,
            "left": null,
            "margin": null,
            "max_height": null,
            "max_width": null,
            "min_height": null,
            "min_width": null,
            "object_fit": null,
            "object_position": null,
            "order": null,
            "overflow": null,
            "overflow_x": null,
            "overflow_y": null,
            "padding": null,
            "right": null,
            "top": null,
            "visibility": null,
            "width": null
          }
        },
        "13c51575b86541d6a339fefaac8789ba": {
          "model_module": "@jupyter-widgets/controls",
          "model_name": "DescriptionStyleModel",
          "model_module_version": "1.5.0",
          "state": {
            "_model_module": "@jupyter-widgets/controls",
            "_model_module_version": "1.5.0",
            "_model_name": "DescriptionStyleModel",
            "_view_count": null,
            "_view_module": "@jupyter-widgets/base",
            "_view_module_version": "1.2.0",
            "_view_name": "StyleView",
            "description_width": ""
          }
        },
        "1181f08c69a84253a2f6181cf3764d54": {
          "model_module": "@jupyter-widgets/base",
          "model_name": "LayoutModel",
          "model_module_version": "1.2.0",
          "state": {
            "_model_module": "@jupyter-widgets/base",
            "_model_module_version": "1.2.0",
            "_model_name": "LayoutModel",
            "_view_count": null,
            "_view_module": "@jupyter-widgets/base",
            "_view_module_version": "1.2.0",
            "_view_name": "LayoutView",
            "align_content": null,
            "align_items": null,
            "align_self": null,
            "border": null,
            "bottom": null,
            "display": null,
            "flex": null,
            "flex_flow": null,
            "grid_area": null,
            "grid_auto_columns": null,
            "grid_auto_flow": null,
            "grid_auto_rows": null,
            "grid_column": null,
            "grid_gap": null,
            "grid_row": null,
            "grid_template_areas": null,
            "grid_template_columns": null,
            "grid_template_rows": null,
            "height": null,
            "justify_content": null,
            "justify_items": null,
            "left": null,
            "margin": null,
            "max_height": null,
            "max_width": null,
            "min_height": null,
            "min_width": null,
            "object_fit": null,
            "object_position": null,
            "order": null,
            "overflow": null,
            "overflow_x": null,
            "overflow_y": null,
            "padding": null,
            "right": null,
            "top": null,
            "visibility": null,
            "width": null
          }
        },
        "771c60b1195e45049a9363f031e5e098": {
          "model_module": "@jupyter-widgets/controls",
          "model_name": "ProgressStyleModel",
          "model_module_version": "1.5.0",
          "state": {
            "_model_module": "@jupyter-widgets/controls",
            "_model_module_version": "1.5.0",
            "_model_name": "ProgressStyleModel",
            "_view_count": null,
            "_view_module": "@jupyter-widgets/base",
            "_view_module_version": "1.2.0",
            "_view_name": "StyleView",
            "bar_color": null,
            "description_width": ""
          }
        },
        "d4b513963a194b9cbc6c041fffe71e7b": {
          "model_module": "@jupyter-widgets/base",
          "model_name": "LayoutModel",
          "model_module_version": "1.2.0",
          "state": {
            "_model_module": "@jupyter-widgets/base",
            "_model_module_version": "1.2.0",
            "_model_name": "LayoutModel",
            "_view_count": null,
            "_view_module": "@jupyter-widgets/base",
            "_view_module_version": "1.2.0",
            "_view_name": "LayoutView",
            "align_content": null,
            "align_items": null,
            "align_self": null,
            "border": null,
            "bottom": null,
            "display": null,
            "flex": null,
            "flex_flow": null,
            "grid_area": null,
            "grid_auto_columns": null,
            "grid_auto_flow": null,
            "grid_auto_rows": null,
            "grid_column": null,
            "grid_gap": null,
            "grid_row": null,
            "grid_template_areas": null,
            "grid_template_columns": null,
            "grid_template_rows": null,
            "height": null,
            "justify_content": null,
            "justify_items": null,
            "left": null,
            "margin": null,
            "max_height": null,
            "max_width": null,
            "min_height": null,
            "min_width": null,
            "object_fit": null,
            "object_position": null,
            "order": null,
            "overflow": null,
            "overflow_x": null,
            "overflow_y": null,
            "padding": null,
            "right": null,
            "top": null,
            "visibility": null,
            "width": null
          }
        },
        "4afadfd67e65484e9de75310adbc8be8": {
          "model_module": "@jupyter-widgets/controls",
          "model_name": "DescriptionStyleModel",
          "model_module_version": "1.5.0",
          "state": {
            "_model_module": "@jupyter-widgets/controls",
            "_model_module_version": "1.5.0",
            "_model_name": "DescriptionStyleModel",
            "_view_count": null,
            "_view_module": "@jupyter-widgets/base",
            "_view_module_version": "1.2.0",
            "_view_name": "StyleView",
            "description_width": ""
          }
        }
      }
    }
  },
  "cells": [
    {
      "cell_type": "markdown",
      "metadata": {
        "id": "view-in-github",
        "colab_type": "text"
      },
      "source": [
        "<a href=\"https://colab.research.google.com/github/marceloqs/VRDL_Tarea2/blob/master/Tarea_2_NLP_(grupo_2).ipynb\" target=\"_parent\"><img src=\"https://colab.research.google.com/assets/colab-badge.svg\" alt=\"Open In Colab\"/></a>"
      ]
    },
    {
      "cell_type": "markdown",
      "source": [
        "![logo-departamento.jpg](data:image/jpeg;base64,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)"
      ],
      "metadata": {
        "id": "UuSUhO6P8ssV"
      }
    },
    {
      "cell_type": "markdown",
      "source": [
        "#Diplomado Inteligencia Artificial\n",
        "#Procesamiento de Lenguaje Natural"
      ],
      "metadata": {
        "id": "_nyCzubF9eE4"
      }
    },
    {
      "cell_type": "markdown",
      "source": [
        "##***Grupo 2***\n",
        "## **Wladimir Cortes**\n",
        "## **Jaime Fuenzalida**\n",
        "## **Marcelo Quiroga**\n"
      ],
      "metadata": {
        "id": "ZWpb6dyv-HXi"
      }
    },
    {
      "cell_type": "markdown",
      "source": [
        "### 1. Creacion y limpieza de la base de datos\n"
      ],
      "metadata": {
        "id": "Hq2QZ6CaT-LK"
      }
    },
    {
      "cell_type": "code",
      "source": [
        "#Se descarga dataset\n",
        "!git clone https://github.com/wladimircortes/chatbot"
      ],
      "metadata": {
        "colab": {
          "base_uri": "https://localhost:8080/",
          "height": 0
        },
        "id": "wdlDHmQxxW2q",
        "outputId": "8fb77a5e-d568-4285-abe4-d8f15f2080d5"
      },
      "execution_count": 1,
      "outputs": [
        {
          "output_type": "stream",
          "name": "stdout",
          "text": [
            "fatal: destination path 'chatbot' already exists and is not an empty directory.\n"
          ]
        }
      ]
    },
    {
      "cell_type": "code",
      "source": [
        "#Se instalan programas\n",
        "!pip install nlpaug\n",
        "!pip install datasets transformers \n",
        "!pip install colorama "
      ],
      "metadata": {
        "colab": {
          "base_uri": "https://localhost:8080/",
          "height": 0
        },
        "id": "8zSUqMhBLZ4O",
        "outputId": "8301fa57-b259-4c31-e2ac-3498bd0c82ee"
      },
      "execution_count": 2,
      "outputs": [
        {
          "output_type": "stream",
          "name": "stdout",
          "text": [
            "Looking in indexes: https://pypi.org/simple, https://us-python.pkg.dev/colab-wheels/public/simple/\n",
            "Requirement already satisfied: nlpaug in /usr/local/lib/python3.8/dist-packages (1.1.11)\n",
            "Requirement already satisfied: numpy>=1.16.2 in /usr/local/lib/python3.8/dist-packages (from nlpaug) (1.21.6)\n",
            "Requirement already satisfied: requests>=2.22.0 in /usr/local/lib/python3.8/dist-packages (from nlpaug) (2.23.0)\n",
            "Requirement already satisfied: pandas>=1.2.0 in /usr/local/lib/python3.8/dist-packages (from nlpaug) (1.3.5)\n",
            "Requirement already satisfied: gdown>=4.0.0 in /usr/local/lib/python3.8/dist-packages (from nlpaug) (4.4.0)\n",
            "Requirement already satisfied: six in /usr/local/lib/python3.8/dist-packages (from gdown>=4.0.0->nlpaug) (1.15.0)\n",
            "Requirement already satisfied: tqdm in /usr/local/lib/python3.8/dist-packages (from gdown>=4.0.0->nlpaug) (4.64.1)\n",
            "Requirement already satisfied: filelock in /usr/local/lib/python3.8/dist-packages (from gdown>=4.0.0->nlpaug) (3.8.0)\n",
            "Requirement already satisfied: beautifulsoup4 in /usr/local/lib/python3.8/dist-packages (from gdown>=4.0.0->nlpaug) (4.6.3)\n",
            "Requirement already satisfied: pytz>=2017.3 in /usr/local/lib/python3.8/dist-packages (from pandas>=1.2.0->nlpaug) (2022.6)\n",
            "Requirement already satisfied: python-dateutil>=2.7.3 in /usr/local/lib/python3.8/dist-packages (from pandas>=1.2.0->nlpaug) (2.8.2)\n",
            "Requirement already satisfied: certifi>=2017.4.17 in /usr/local/lib/python3.8/dist-packages (from requests>=2.22.0->nlpaug) (2022.9.24)\n",
            "Requirement already satisfied: idna<3,>=2.5 in /usr/local/lib/python3.8/dist-packages (from requests>=2.22.0->nlpaug) (2.10)\n",
            "Requirement already satisfied: urllib3!=1.25.0,!=1.25.1,<1.26,>=1.21.1 in /usr/local/lib/python3.8/dist-packages (from requests>=2.22.0->nlpaug) (1.25.11)\n",
            "Requirement already satisfied: chardet<4,>=3.0.2 in /usr/local/lib/python3.8/dist-packages (from requests>=2.22.0->nlpaug) (3.0.4)\n",
            "Requirement already satisfied: PySocks!=1.5.7,>=1.5.6 in /usr/local/lib/python3.8/dist-packages (from requests>=2.22.0->nlpaug) (1.7.1)\n",
            "Looking in indexes: https://pypi.org/simple, https://us-python.pkg.dev/colab-wheels/public/simple/\n",
            "Requirement already satisfied: datasets in /usr/local/lib/python3.8/dist-packages (2.7.1)\n",
            "Requirement already satisfied: transformers in /usr/local/lib/python3.8/dist-packages (4.25.1)\n",
            "Requirement already satisfied: aiohttp in /usr/local/lib/python3.8/dist-packages (from datasets) (3.8.3)\n",
            "Requirement already satisfied: pyarrow>=6.0.0 in /usr/local/lib/python3.8/dist-packages (from datasets) (9.0.0)\n",
            "Requirement already satisfied: requests>=2.19.0 in /usr/local/lib/python3.8/dist-packages (from datasets) (2.23.0)\n",
            "Requirement already satisfied: pyyaml>=5.1 in /usr/local/lib/python3.8/dist-packages (from datasets) (6.0)\n",
            "Requirement already satisfied: fsspec[http]>=2021.11.1 in /usr/local/lib/python3.8/dist-packages (from datasets) (2022.11.0)\n",
            "Requirement already satisfied: tqdm>=4.62.1 in /usr/local/lib/python3.8/dist-packages (from datasets) (4.64.1)\n",
            "Requirement already satisfied: dill<0.3.7 in /usr/local/lib/python3.8/dist-packages (from datasets) (0.3.6)\n",
            "Requirement already satisfied: xxhash in /usr/local/lib/python3.8/dist-packages (from datasets) (3.1.0)\n",
            "Requirement already satisfied: multiprocess in /usr/local/lib/python3.8/dist-packages (from datasets) (0.70.14)\n",
            "Requirement already satisfied: responses<0.19 in /usr/local/lib/python3.8/dist-packages (from datasets) (0.18.0)\n",
            "Requirement already satisfied: packaging in /usr/local/lib/python3.8/dist-packages (from datasets) (21.3)\n",
            "Requirement already satisfied: pandas in /usr/local/lib/python3.8/dist-packages (from datasets) (1.3.5)\n",
            "Requirement already satisfied: numpy>=1.17 in /usr/local/lib/python3.8/dist-packages (from datasets) (1.21.6)\n",
            "Requirement already satisfied: huggingface-hub<1.0.0,>=0.2.0 in /usr/local/lib/python3.8/dist-packages (from datasets) (0.11.1)\n",
            "Requirement already satisfied: charset-normalizer<3.0,>=2.0 in /usr/local/lib/python3.8/dist-packages (from aiohttp->datasets) (2.1.1)\n",
            "Requirement already satisfied: yarl<2.0,>=1.0 in /usr/local/lib/python3.8/dist-packages (from aiohttp->datasets) (1.8.2)\n",
            "Requirement already satisfied: aiosignal>=1.1.2 in /usr/local/lib/python3.8/dist-packages (from aiohttp->datasets) (1.3.1)\n",
            "Requirement already satisfied: multidict<7.0,>=4.5 in /usr/local/lib/python3.8/dist-packages (from aiohttp->datasets) (6.0.3)\n",
            "Requirement already satisfied: frozenlist>=1.1.1 in /usr/local/lib/python3.8/dist-packages (from aiohttp->datasets) (1.3.3)\n",
            "Requirement already satisfied: attrs>=17.3.0 in /usr/local/lib/python3.8/dist-packages (from aiohttp->datasets) (22.1.0)\n",
            "Requirement already satisfied: async-timeout<5.0,>=4.0.0a3 in /usr/local/lib/python3.8/dist-packages (from aiohttp->datasets) (4.0.2)\n",
            "Requirement already satisfied: filelock in /usr/local/lib/python3.8/dist-packages (from huggingface-hub<1.0.0,>=0.2.0->datasets) (3.8.0)\n",
            "Requirement already satisfied: typing-extensions>=3.7.4.3 in /usr/local/lib/python3.8/dist-packages (from huggingface-hub<1.0.0,>=0.2.0->datasets) (4.4.0)\n",
            "Requirement already satisfied: pyparsing!=3.0.5,>=2.0.2 in /usr/local/lib/python3.8/dist-packages (from packaging->datasets) (3.0.9)\n",
            "Requirement already satisfied: chardet<4,>=3.0.2 in /usr/local/lib/python3.8/dist-packages (from requests>=2.19.0->datasets) (3.0.4)\n",
            "Requirement already satisfied: idna<3,>=2.5 in /usr/local/lib/python3.8/dist-packages (from requests>=2.19.0->datasets) (2.10)\n",
            "Requirement already satisfied: urllib3!=1.25.0,!=1.25.1,<1.26,>=1.21.1 in /usr/local/lib/python3.8/dist-packages (from requests>=2.19.0->datasets) (1.25.11)\n",
            "Requirement already satisfied: certifi>=2017.4.17 in /usr/local/lib/python3.8/dist-packages (from requests>=2.19.0->datasets) (2022.9.24)\n",
            "Requirement already satisfied: tokenizers!=0.11.3,<0.14,>=0.11.1 in /usr/local/lib/python3.8/dist-packages (from transformers) (0.13.2)\n",
            "Requirement already satisfied: regex!=2019.12.17 in /usr/local/lib/python3.8/dist-packages (from transformers) (2022.6.2)\n",
            "Requirement already satisfied: pytz>=2017.3 in /usr/local/lib/python3.8/dist-packages (from pandas->datasets) (2022.6)\n",
            "Requirement already satisfied: python-dateutil>=2.7.3 in /usr/local/lib/python3.8/dist-packages (from pandas->datasets) (2.8.2)\n",
            "Requirement already satisfied: six>=1.5 in /usr/local/lib/python3.8/dist-packages (from python-dateutil>=2.7.3->pandas->datasets) (1.15.0)\n",
            "Looking in indexes: https://pypi.org/simple, https://us-python.pkg.dev/colab-wheels/public/simple/\n",
            "Requirement already satisfied: colorama in /usr/local/lib/python3.8/dist-packages (0.4.6)\n"
          ]
        }
      ]
    },
    {
      "cell_type": "code",
      "source": [
        "#Librerias\n",
        "import pandas as pd\n",
        "import numpy as np\n",
        "import nltk\n",
        "import gensim\n",
        "import re\n",
        "import sklearn\n",
        "import sklearn.linear_model\n",
        "import sklearn.model_selection\n",
        "import random\n",
        "import importlib\n",
        "import os\n",
        "import matplotlib.pyplot as plt\n",
        "import nlpaug.augmenter.char as nac\n",
        "import nlpaug.augmenter.word as naw\n",
        "import nlpaug.augmenter.sentence as nas\n",
        "import nlpaug.flow as nafc\n",
        "import warnings\n",
        "from nlpaug.util import Action\n",
        "from sklearn.metrics.pairwise import cosine_similarity,cosine_distances\n",
        "from sklearn.model_selection import train_test_split\n",
        "from datasets import load_dataset, load_metric, Dataset, DatasetDict, concatenate_datasets\n",
        "from transformers import AutoModelForSequenceClassification, AutoTokenizer, Trainer, TrainingArguments, pipeline\n",
        "from colorama import Fore, Style\n",
        "\n"
      ],
      "metadata": {
        "id": "SJHseuhGWI33"
      },
      "execution_count": 3,
      "outputs": []
    },
    {
      "cell_type": "markdown",
      "source": [
        "####**Se generan las siguientes tablas:**####"
      ],
      "metadata": {
        "id": "KyfobYk4AWx3"
      }
    },
    {
      "cell_type": "markdown",
      "source": [
        "1. Tabla con los mensajes de entrada para nuestro chatbot.<br>\n",
        "Esta tabla se compone de las clases: nombre, saludo y despedida"
      ],
      "metadata": {
        "id": "1p9jLigYXB14"
      }
    },
    {
      "cell_type": "code",
      "source": [
        "mensajes_entrada = pd.read_excel('/content/chatbot/mensajes entrada.xlsx')"
      ],
      "metadata": {
        "id": "ZrlMDKE3adgc"
      },
      "execution_count": 4,
      "outputs": []
    },
    {
      "cell_type": "markdown",
      "source": [
        "2. Tabla con los mensajes de respiuestas predeterminados para nuestro chatbot.<br>\n",
        "Esta tabla se compone de las clases: nombre, saludo y despedida"
      ],
      "metadata": {
        "id": "dE_Luh9XDY8I"
      }
    },
    {
      "cell_type": "code",
      "source": [
        "respuestas_salida = pd.read_excel('/content/chatbot/respuestas salida.xlsx')"
      ],
      "metadata": {
        "id": "NYak1LQiAoIO"
      },
      "execution_count": 5,
      "outputs": []
    },
    {
      "cell_type": "markdown",
      "source": [
        "3. Tabla con los mensajes de informacion para nuestro chatbot. <br>\n",
        "Esta tabla se compone de la clase: informacion"
      ],
      "metadata": {
        "id": "0exFcAe-DhvJ"
      }
    },
    {
      "cell_type": "code",
      "source": [
        "tablaQA = pd.read_excel('/content/chatbot/tablaQA.xlsx')"
      ],
      "metadata": {
        "id": "mOvy1cSvAn3Q"
      },
      "execution_count": 6,
      "outputs": []
    },
    {
      "cell_type": "markdown",
      "source": [
        "4. Tabla con los mensajes de entrada junto con los mensajes de informacion.<br>\n",
        "Esta tabla se compone de la clase: informacion"
      ],
      "metadata": {
        "id": "7YgwAsg6DwPY"
      }
    },
    {
      "cell_type": "code",
      "source": [
        "tablaQA_paso = pd.DataFrame(tablaQA['PREGUNTA']).rename(columns={'PREGUNTA':'MENSAJE'})\n",
        "tablaQA_paso['CLASE'] = 'informacion'\n",
        "mensajes_entrada=mensajes_entrada.append(tablaQA_paso, ignore_index=True)"
      ],
      "metadata": {
        "id": "kQwVTQMiWMwq"
      },
      "execution_count": 7,
      "outputs": []
    },
    {
      "cell_type": "markdown",
      "source": [
        "### 2. Análisis de distancia "
      ],
      "metadata": {
        "id": "DFJLzMQxVnZW"
      }
    },
    {
      "cell_type": "markdown",
      "source": [
        "**Se utilizarán los mensajes de entrada, de salidas, las preguntas y respuestas como corpus**"
      ],
      "metadata": {
        "id": "FBjo_o3-ugeK"
      }
    },
    {
      "cell_type": "code",
      "source": [
        "corpus=mensajes_entrada['MENSAJE'].append(tablaQA['RESPUESTA'],ignore_index=True)\n",
        "corpus=corpus.append(respuestas_salida['RESPUESTA'],ignore_index=True)"
      ],
      "metadata": {
        "id": "epiZhNzNslLF"
      },
      "execution_count": 8,
      "outputs": []
    },
    {
      "cell_type": "markdown",
      "source": [
        "Se descargan stopwords"
      ],
      "metadata": {
        "id": "ZmxAitRebwa4"
      }
    },
    {
      "cell_type": "code",
      "source": [
        "nltk.download('stopwords')\n",
        "nltk.download('wordnet') \n",
        "nltk_stopwords = nltk.corpus.stopwords.words('spanish')"
      ],
      "metadata": {
        "colab": {
          "base_uri": "https://localhost:8080/",
          "height": 0
        },
        "id": "0APvXfuLNmGA",
        "outputId": "78591f9d-1b0b-45a0-a7ff-a199950732aa"
      },
      "execution_count": 9,
      "outputs": [
        {
          "output_type": "stream",
          "name": "stderr",
          "text": [
            "[nltk_data] Downloading package stopwords to /root/nltk_data...\n",
            "[nltk_data]   Package stopwords is already up-to-date!\n",
            "[nltk_data] Downloading package wordnet to /root/nltk_data...\n",
            "[nltk_data]   Package wordnet is already up-to-date!\n"
          ]
        }
      ]
    },
    {
      "cell_type": "markdown",
      "source": [
        "####**Funciones necesarios para nuestro chatbot**"
      ],
      "metadata": {
        "id": "C4FIuR6fO0JR"
      }
    },
    {
      "cell_type": "code",
      "source": [
        "#Normalizacion - toma un texto de entrada y lo normaliza, dejando en texto en minusculas, sin acentos y puntos\n",
        "def normalizer(text): #normalizes a given string to lowercase and changes all vowels to their base form\n",
        "    text = text.lower()\n",
        "    text = re.sub(r'[^A-Za-zñáéíóú 0-9]', ' ', text) \n",
        "    text = re.sub('á', 'a', text) \n",
        "    text = re.sub('é', 'e', text)\n",
        "    text = re.sub('í', 'i', text)\n",
        "    text = re.sub('ó', 'o', text)\n",
        "    text = re.sub('ú', 'u', text)\n",
        "    return text\n",
        "\n",
        "#tokenizador - toma el texto de entrada y lo separa en tokens eliminando stopwords si se requiere \n",
        "def preprocessor(text, remove_stopwords = True):\n",
        "  text = normalizer(text)\n",
        "  if remove_stopwords:\n",
        "    text = ' '.join([word for word in text.split() if word not in (nltk_stopwords)])\n",
        "  tokens = nltk.tokenize.casual_tokenize(text)\n",
        "  return tokens\n",
        "\n",
        "#Vectorizacion - toma el texto de entrada y retorna una presentacion vectorial \n",
        "def vectorizer(text, model): \n",
        "    vectors = []\n",
        "    for i in text:\n",
        "        try:\n",
        "            vectors.append(model.wv[i])\n",
        "        except:\n",
        "            vectors.append(np.zeros(100))\n",
        "            pass\n",
        "    return(np.nan_to_num(np.mean(vectors,axis=0))) \n",
        "\n",
        "warnings.filterwarnings('ignore')"
      ],
      "metadata": {
        "id": "cVhrg-NWmj1K"
      },
      "execution_count": 10,
      "outputs": []
    },
    {
      "cell_type": "markdown",
      "source": [
        "**Entrenamos un modelo con Word2Vec con el corpus creado previamente**"
      ],
      "metadata": {
        "id": "T0aakCDzveSW"
      }
    },
    {
      "cell_type": "code",
      "source": [
        "corpus_preprocessed = list(map(preprocessor,corpus))\n",
        "model_w2v = gensim.models.word2vec.Word2Vec(sentences = corpus_preprocessed, min_count=1)"
      ],
      "metadata": {
        "colab": {
          "base_uri": "https://localhost:8080/",
          "height": 0
        },
        "id": "kIuBmHSTu0-0",
        "outputId": "88de432a-da42-4ffa-e55f-566f49735476"
      },
      "execution_count": 11,
      "outputs": [
        {
          "output_type": "stream",
          "name": "stderr",
          "text": [
            "WARNING:gensim.models.base_any2vec:under 10 jobs per worker: consider setting a smaller `batch_words' for smoother alpha decay\n"
          ]
        }
      ]
    },
    {
      "cell_type": "markdown",
      "source": [
        "**Se realiza grafico para visualizar la frecuencia de los mensajes por clase**"
      ],
      "metadata": {
        "id": "F86mhJ7iLjG-"
      }
    },
    {
      "cell_type": "code",
      "source": [
        "count_classes = pd.value_counts(mensajes_entrada.CLASE)\n",
        "count_classes.plot(kind = 'bar', rot=0)\n",
        "plt.xticks(range(4), mensajes_entrada.CLASE.unique().sort())\n",
        "plt.title(\"FRECUENCIA DE MENSAJES POR CLASE\")\n",
        "plt.xlabel(\"CLASES\")\n",
        "plt.ylabel(\"RECUENTOS\");"
      ],
      "metadata": {
        "colab": {
          "base_uri": "https://localhost:8080/",
          "height": 295
        },
        "id": "ZJKxqrPhkBJO",
        "outputId": "013879c3-0f59-4e06-ef50-bca7e575ebdc"
      },
      "execution_count": 12,
      "outputs": [
        {
          "output_type": "display_data",
          "data": {
            "text/plain": [
              "<Figure size 432x288 with 1 Axes>"
            ],
            "image/png": "[encoded data removed]"
          },
          "metadata": {
            "needs_background": "light"
          }
        }
      ]
    },
    {
      "cell_type": "markdown",
      "source": [
        "Se entrenará un modelo de regresión lineal para clasificar el tipo de mensaje, sin embargo atendido que las clases del dataset están desbalanceadas, en el modelo se agregará una penalización para compensar dicho error."
      ],
      "metadata": {
        "id": "KacigdIHlpR7"
      }
    },
    {
      "cell_type": "code",
      "source": [
        "features = np.zeros(shape=(len(mensajes_entrada),model_w2v.wv.vectors.shape[1]))\n",
        "for i,MENSAJE in enumerate(mensajes_entrada.MENSAJE):\n",
        "  features[i,:] = vectorizer(preprocessor(MENSAJE),model_w2v)\n",
        "cv_results = sklearn.model_selection.cross_validate(sklearn.linear_model.LogisticRegression(max_iter=1000, C=1.0,penalty='l2',random_state=1,solver=\"newton-cg\",class_weight=\"balanced\"),features[:10000],mensajes_entrada.CLASE[:10000])\n",
        "cv_results[\"test_score\"].mean()"
      ],
      "metadata": {
        "colab": {
          "base_uri": "https://localhost:8080/",
          "height": 0
        },
        "id": "iCHeCNCevreG",
        "outputId": "c86b8fe0-d662-4ee1-8b20-5d118a66724c"
      },
      "execution_count": 13,
      "outputs": [
        {
          "output_type": "execute_result",
          "data": {
            "text/plain": [
              "0.8817923186344239"
            ]
          },
          "metadata": {},
          "execution_count": 13
        }
      ]
    },
    {
      "cell_type": "markdown",
      "source": [
        "**Se realizaron  algunas pruebas para mejorar el test_score, de las pruebas se realizaron los siguientes cambios:**<br>\n",
        "1. Sin eliminar stopword <br>\n",
        "    0.7591749644381224\n",
        "2. Eliminando stopword <br>\n",
        "    **0.8605974395448079**\n",
        "3. Eliminando stopword y palabras > 3 <br>\n",
        "    0.8233285917496443\n",
        "\n",
        "**Hasta ahora lo que funciona mejor es solo quitando las stopsword (prueba 2)**"
      ],
      "metadata": {
        "id": "xC7NwMfMKaS9"
      }
    },
    {
      "cell_type": "code",
      "source": [
        "clf = sklearn.linear_model.LogisticRegression(max_iter=500, C=1.0,penalty='l2',random_state=1,solver=\"newton-cg\",class_weight=\"balanced\")\n",
        "clf.fit(features[:10000],mensajes_entrada.CLASE[:10000])"
      ],
      "metadata": {
        "colab": {
          "base_uri": "https://localhost:8080/",
          "height": 0
        },
        "id": "ybImPS230G1Y",
        "outputId": "fb05dec7-b62d-46cd-80aa-5293fe7fc276"
      },
      "execution_count": 14,
      "outputs": [
        {
          "output_type": "execute_result",
          "data": {
            "text/plain": [
              "LogisticRegression(class_weight='balanced', max_iter=500, random_state=1,\n",
              "                   solver='newton-cg')"
            ]
          },
          "metadata": {},
          "execution_count": 14
        }
      ]
    },
    {
      "cell_type": "code",
      "source": [
        "#\n",
        "def classify(mensaje):\n",
        "  tokens = preprocessor(mensaje)\n",
        "  vector = vectorizer(tokens,model_w2v).reshape(1, -1)\n",
        "  return clf.predict(vector)[0] \n",
        "\n",
        "# Normalizar los vectores para que sean unitarios\n",
        "def normalize(data) :\n",
        "    norm = np.sqrt(np.sum(np.square(data), axis=1))\n",
        "    norm = np.expand_dims(norm, 0)        \n",
        "    data = data / np.transpose(norm)\n",
        "    return data\n",
        "\n",
        "# Retorna un ranking de las preguntas y respuestas más similares\n",
        "def query(fv, query):\n",
        "    normalized_fv = normalize(fv)\n",
        "    normalized_query = normalize(query)\n",
        "    sim=cosine_similarity(normalized_query, normalized_fv)\n",
        "    idx_sorted = np.argsort(-sim, axis=-1)\n",
        "    return idx_sorted\n",
        "\n",
        "# Recupera respuesta mas similar a la pregunta del humano\n",
        "def retrieve(message,message_class):\n",
        "  try:\n",
        "    if message_class=='informacion':\n",
        "        tablaQA_all=tablaQA.PREGUNTA.str.cat(tablaQA.RESPUESTA)\n",
        "        features = np.zeros(shape=(len(tablaQA),model_w2v.wv.vectors.shape[1]))\n",
        "        for i,PREGUNTA in enumerate(tablaQA_all):\n",
        "          features[i,:] = vectorizer(preprocessor(PREGUNTA),model_w2v)\n",
        "        vector_message = vectorizer(preprocessor(message),model_w2v).reshape(1, -1)\n",
        "        ranking = query(features, vector_message)\n",
        "        return tablaQA.loc[ranking[0][0]][1]\n",
        "    else:\n",
        "        response_class=respuestas_salida[respuestas_salida.CLASE==message_class].reset_index(drop=True)\n",
        "        features = np.zeros(shape=(len(response_class),model_w2v.wv.vectors.shape[1]))\n",
        "        for i,RESPUESTA in enumerate(response_class.RESPUESTA):\n",
        "          features[i,:] = vectorizer(preprocessor(RESPUESTA),model_w2v)\n",
        "        vector_message = vectorizer(preprocessor(message),model_w2v).reshape(1, -1)\n",
        "        ranking = query(features, vector_message)\n",
        "        return response_class.loc[ranking[0][random.randrange(0, 2)]][0]\n",
        "  except:\n",
        "    return(\"Pregunta desconocida\")        "
      ],
      "metadata": {
        "id": "u5QqQhgWsgzw"
      },
      "execution_count": 15,
      "outputs": []
    },
    {
      "cell_type": "markdown",
      "source": [
        "**Chatbot**"
      ],
      "metadata": {
        "id": "DLxeWe7eXp2D"
      }
    },
    {
      "cell_type": "code",
      "source": [
        "print(\"Bienvenid@ \\n\")\n",
        "\n",
        "mesage_class = ''\n",
        "while mesage_class != \"despedida\": \n",
        "  print (\"Ingrese texto :\")\n",
        "  message = input()\n",
        "  mesage_class=classify(message)\n",
        "  request = retrieve(message,mesage_class)\n",
        "  if  request == 'Pregunta desconocida':\n",
        "    print(\"Pregunta desconocida, vuelve a intentar\")\n",
        "    mesage_class = 'unknown'\n",
        "    continue\n",
        "  print(\"\")\n",
        "  print(f\"- Humano : {message}. \\n+ Bot    : {request}.\")\n",
        "  print(\"* Categoria :\" + mesage_class) \n",
        "  print(\"---------------------------------------\")\n"
      ],
      "metadata": {
        "colab": {
          "base_uri": "https://localhost:8080/",
          "height": 0
        },
        "id": "7Didded9Vkzi",
        "outputId": "9f7f1af1-9ace-4878-8a3c-94412809c784"
      },
      "execution_count": 16,
      "outputs": [
        {
          "output_type": "stream",
          "name": "stdout",
          "text": [
            "Bienvenid@ \n",
            "\n",
            "Ingrese texto :\n",
            "cómo ingreso un escrito?\n",
            "\n",
            "- Humano : cómo ingreso un escrito?. \n",
            "+ Bot    : En casos de caída de la Oficina Judicial Virtual, el usuario podrá ingresar materialmente el escrito de plazo, y como respaldo a dicha circunstancia, contará con el Certificado de Disponibilidad emitido por la Corporación Administrativa del Poder Judicial. El tribunal estará encargado de digitalizar el escrito y adjuntarlo a la carpeta electrónica para su correspondiente.\n",
            "* Categoria :informacion\n",
            "---------------------------------------\n",
            "Ingrese texto :\n",
            "chao\n",
            "\n",
            "- Humano : chao. \n",
            "+ Bot    : Nos vemos.\n",
            "* Categoria :despedida\n",
            "---------------------------------------\n"
          ]
        }
      ]
    },
    {
      "cell_type": "markdown",
      "source": [
        "### 3. Análisis transformer"
      ],
      "metadata": {
        "id": "nleti_V6VseI"
      }
    },
    {
      "cell_type": "markdown",
      "source": [
        "**Aumento de datos**"
      ],
      "metadata": {
        "id": "3Ocakfwu7he-"
      }
    },
    {
      "cell_type": "code",
      "source": [
        "!%load_ext autoreload\n",
        "!%autoreload 2\n",
        "\n",
        "os.environ[\"MODEL_DIR\"] = '../model'"
      ],
      "metadata": {
        "colab": {
          "base_uri": "https://localhost:8080/",
          "height": 0
        },
        "id": "pO2qtgNxcI8X",
        "outputId": "532a5b4e-fae5-4bab-f9fa-03e66d76cb9d"
      },
      "execution_count": 17,
      "outputs": [
        {
          "output_type": "stream",
          "name": "stdout",
          "text": [
            "/bin/bash: line 0: fg: no job control\n",
            "/bin/bash: line 0: fg: no job control\n"
          ]
        }
      ]
    },
    {
      "cell_type": "code",
      "source": [
        "clases = pd.DataFrame({'CLASE': ['informacion', 'nombre', 'saludo', 'despedida'],'ID_CLASE': [0, 1, 2, 3]})\n",
        "mensajes_entrada=mensajes_entrada.merge(clases, left_on='CLASE', right_on='CLASE')\n",
        "mensajes_entrada=mensajes_entrada.rename(columns={\"MENSAJE\": \"text\", \"ID_CLASE\": \"label\"})\n",
        "\n",
        "aug = naw.SynonymAug(aug_src='wordnet', lang='spa')\n",
        "da_mensajes_entrada=mensajes_entrada\n",
        "da_mensajes_entrada.text=mensajes_entrada.text.apply(lambda x: ''.join(aug.augment(x)))\n",
        "mensajes_entrada=mensajes_entrada.append(da_mensajes_entrada, ignore_index=True)"
      ],
      "metadata": {
        "id": "4zhrySgdMa3i"
      },
      "execution_count": 18,
      "outputs": []
    },
    {
      "cell_type": "markdown",
      "source": [
        "####Preparación del dataset"
      ],
      "metadata": {
        "id": "XjFpfMjVFndE"
      }
    },
    {
      "cell_type": "code",
      "source": [
        "x_train, x_test, y_train, y_test = train_test_split( mensajes_entrada.text, mensajes_entrada.label, test_size=0.33, random_state=42)\n",
        "train = pd.concat([x_train, y_train], axis=1).reset_index(drop=True)\n",
        "test = pd.concat([x_test, y_test], axis=1).reset_index(drop=True)"
      ],
      "metadata": {
        "id": "95ZU_mOCVnP0"
      },
      "execution_count": 19,
      "outputs": []
    },
    {
      "cell_type": "markdown",
      "source": [
        "#### Preparación del modelo transforme de clasificación "
      ],
      "metadata": {
        "id": "UeoXcTIvGyb0"
      }
    },
    {
      "cell_type": "code",
      "source": [
        "datasets_train_test = DatasetDict({\n",
        "   \"train\": Dataset.from_pandas(train),\n",
        "   \"test\": Dataset.from_pandas(test)\n",
        "   })"
      ],
      "metadata": {
        "id": "OBynuoyTHHSh"
      },
      "execution_count": 20,
      "outputs": []
    },
    {
      "cell_type": "code",
      "source": [
        "metric = load_metric('accuracy')"
      ],
      "metadata": {
        "id": "xsh6KAMl9WuB"
      },
      "execution_count": 21,
      "outputs": []
    },
    {
      "cell_type": "code",
      "source": [
        "tokenizer = AutoTokenizer.from_pretrained(\"dccuchile/bert-base-spanish-wwm-uncased\")"
      ],
      "metadata": {
        "id": "3h4mCDO09z9F"
      },
      "execution_count": 22,
      "outputs": []
    },
    {
      "cell_type": "code",
      "source": [
        "def preprocess_function(examples):\n",
        "    return tokenizer(examples[\"text\"], truncation=True)\n",
        "\n",
        "def compute_metrics(eval_pred):\n",
        "    predictions, labels = eval_pred\n",
        "    predictions = np.argmax(predictions, axis=1)\n",
        "    return metric.compute(predictions=predictions, references=labels)"
      ],
      "metadata": {
        "id": "r9fCYuZq9490"
      },
      "execution_count": 23,
      "outputs": []
    },
    {
      "cell_type": "code",
      "source": [
        "tokenized_spanish_diagnostics = datasets_train_test.map(preprocess_function, batched=True)\n",
        "model = AutoModelForSequenceClassification.from_pretrained(\"dccuchile/bert-base-spanish-wwm-uncased\", num_labels=4)"
      ],
      "metadata": {
        "id": "uO9KfMWx9a0K",
        "colab": {
          "base_uri": "https://localhost:8080/",
          "height": 188,
          "referenced_widgets": [
            "f2bb5074ee744a63a22f536863256139",
            "430e30222ca34a5f8bd934694429603e",
            "575ac5f734ff44c8ae098ead9bde9e4d",
            "21c4a06a57a243359c5c5e45efac6d49",
            "77c5e2856ada401eb35fea33513b1e34",
            "4cf74e4f2c7c400f8c8abbd583d49055",
            "0e080f8dd7b34a5ba3a2fa2e349127cf",
            "90bf0bc0847d4413b5aa5ca58565e957",
            "9e027f76e69c4c6285693960c7bf54c5",
            "0aaaa43ddb824b89a65f6ac98fb650a5",
            "1228315a0ad540ae9241106f466edf7d",
            "b112df5fc708491a8432f0df4bbfa4be",
            "e8ce4b80ec2b4694aa7dc8edd47143e9",
            "0d1f64a93508491eb3a76ff0f52e48c1",
            "80957e71c9d9498ca16885dcb6563f84",
            "3ef4e5073efa41feb5d05ee1c15a867f",
            "8153d42ffb8346f2bf33f807a0f36976",
            "13c51575b86541d6a339fefaac8789ba",
            "1181f08c69a84253a2f6181cf3764d54",
            "771c60b1195e45049a9363f031e5e098",
            "d4b513963a194b9cbc6c041fffe71e7b",
            "4afadfd67e65484e9de75310adbc8be8"
          ]
        },
        "outputId": "4cddd03b-56c2-49dd-eb2f-ee18dbe92f9b"
      },
      "execution_count": 24,
      "outputs": [
        {
          "output_type": "display_data",
          "data": {
            "text/plain": [
              "  0%|          | 0/1 [00:00<?, ?ba/s]"
            ],
            "application/vnd.jupyter.widget-view+json": {
              "version_major": 2,
              "version_minor": 0,
              "model_id": "f2bb5074ee744a63a22f536863256139"
            }
          },
          "metadata": {}
        },
        {
          "output_type": "display_data",
          "data": {
            "text/plain": [
              "  0%|          | 0/1 [00:00<?, ?ba/s]"
            ],
            "application/vnd.jupyter.widget-view+json": {
              "version_major": 2,
              "version_minor": 0,
              "model_id": "b112df5fc708491a8432f0df4bbfa4be"
            }
          },
          "metadata": {}
        },
        {
          "output_type": "stream",
          "name": "stderr",
          "text": [
            "Some weights of the model checkpoint at dccuchile/bert-base-spanish-wwm-uncased were not used when initializing BertForSequenceClassification: ['cls.predictions.bias', 'cls.predictions.transform.dense.weight', 'cls.predictions.decoder.bias', 'cls.predictions.transform.LayerNorm.bias', 'cls.predictions.transform.LayerNorm.weight', 'cls.predictions.decoder.weight', 'cls.predictions.transform.dense.bias']\n",
            "- This IS expected if you are initializing BertForSequenceClassification from the checkpoint of a model trained on another task or with another architecture (e.g. initializing a BertForSequenceClassification model from a BertForPreTraining model).\n",
            "- This IS NOT expected if you are initializing BertForSequenceClassification from the checkpoint of a model that you expect to be exactly identical (initializing a BertForSequenceClassification model from a BertForSequenceClassification model).\n",
            "Some weights of BertForSequenceClassification were not initialized from the model checkpoint at dccuchile/bert-base-spanish-wwm-uncased and are newly initialized: ['bert.pooler.dense.weight', 'classifier.weight', 'classifier.bias', 'bert.pooler.dense.bias']\n",
            "You should probably TRAIN this model on a down-stream task to be able to use it for predictions and inference.\n"
          ]
        }
      ]
    },
    {
      "cell_type": "code",
      "source": [
        "training_args = TrainingArguments(\n",
        "    output_dir=\"./results\",\n",
        "    max_steps=500,\n",
        "    evaluation_strategy=\"steps\"\n",
        ")\n",
        "\n",
        "trainer = Trainer(\n",
        "    model=model,\n",
        "    args=training_args,\n",
        "    tokenizer = tokenizer,\n",
        "    train_dataset=tokenized_spanish_diagnostics[\"train\"],\n",
        "    eval_dataset=tokenized_spanish_diagnostics[\"test\"],\n",
        "    compute_metrics=compute_metrics\n",
        ")"
      ],
      "metadata": {
        "id": "tXKcyvoIRvX_",
        "colab": {
          "base_uri": "https://localhost:8080/",
          "height": 0
        },
        "outputId": "7cc0d6fa-c234-4724-ecc9-2760b785a54c"
      },
      "execution_count": 25,
      "outputs": [
        {
          "output_type": "stream",
          "name": "stderr",
          "text": [
            "max_steps is given, it will override any value given in num_train_epochs\n"
          ]
        }
      ]
    },
    {
      "cell_type": "code",
      "source": [
        "trainer.train()"
      ],
      "metadata": {
        "id": "2li2pp8S3zJF",
        "colab": {
          "base_uri": "https://localhost:8080/",
          "height": 541
        },
        "outputId": "846eb697-625a-46bb-b37e-6e8bb63f89d4"
      },
      "execution_count": 26,
      "outputs": [
        {
          "output_type": "stream",
          "name": "stderr",
          "text": [
            "The following columns in the training set don't have a corresponding argument in `BertForSequenceClassification.forward` and have been ignored: text. If text are not expected by `BertForSequenceClassification.forward`,  you can safely ignore this message.\n",
            "***** Running training *****\n",
            "  Num examples = 250\n",
            "  Num Epochs = 16\n",
            "  Instantaneous batch size per device = 8\n",
            "  Total train batch size (w. parallel, distributed & accumulation) = 8\n",
            "  Gradient Accumulation steps = 1\n",
            "  Total optimization steps = 500\n",
            "  Number of trainable parameters = 109853956\n",
            "You're using a BertTokenizerFast tokenizer. Please note that with a fast tokenizer, using the `__call__` method is faster than using a method to encode the text followed by a call to the `pad` method to get a padded encoding.\n"
          ]
        },
        {
          "output_type": "display_data",
          "data": {
            "text/plain": [
              "<IPython.core.display.HTML object>"
            ],
            "text/html": [
              "\n",
              "    <div>\n",
              "      \n",
              "      <progress value='500' max='500' style='width:300px; height:20px; vertical-align: middle;'></progress>\n",
              "      [500/500 00:48, Epoch 15/16]\n",
              "    </div>\n",
              "    <table border=\"1\" class=\"dataframe\">\n",
              "  <thead>\n",
              " <tr style=\"text-align: left;\">\n",
              "      <th>Step</th>\n",
              "      <th>Training Loss</th>\n",
              "      <th>Validation Loss</th>\n",
              "      <th>Accuracy</th>\n",
              "    </tr>\n",
              "  </thead>\n",
              "  <tbody>\n",
              "    <tr>\n",
              "      <td>500</td>\n",
              "      <td>0.029900</td>\n",
              "      <td>0.001855</td>\n",
              "      <td>1.000000</td>\n",
              "    </tr>\n",
              "  </tbody>\n",
              "</table><p>"
            ]
          },
          "metadata": {}
        },
        {
          "output_type": "stream",
          "name": "stderr",
          "text": [
            "The following columns in the evaluation set don't have a corresponding argument in `BertForSequenceClassification.forward` and have been ignored: text. If text are not expected by `BertForSequenceClassification.forward`,  you can safely ignore this message.\n",
            "***** Running Evaluation *****\n",
            "  Num examples = 124\n",
            "  Batch size = 8\n",
            "Saving model checkpoint to ./results/checkpoint-500\n",
            "Configuration saved in ./results/checkpoint-500/config.json\n",
            "Model weights saved in ./results/checkpoint-500/pytorch_model.bin\n",
            "tokenizer config file saved in ./results/checkpoint-500/tokenizer_config.json\n",
            "Special tokens file saved in ./results/checkpoint-500/special_tokens_map.json\n",
            "\n",
            "\n",
            "Training completed. Do not forget to share your model on huggingface.co/models =)\n",
            "\n",
            "\n"
          ]
        },
        {
          "output_type": "execute_result",
          "data": {
            "text/plain": [
              "TrainOutput(global_step=500, training_loss=0.02988555145263672, metrics={'train_runtime': 49.8028, 'train_samples_per_second': 80.317, 'train_steps_per_second': 10.04, 'total_flos': 58146531809184.0, 'train_loss': 0.02988555145263672, 'epoch': 15.62})"
            ]
          },
          "metadata": {},
          "execution_count": 26
        }
      ]
    },
    {
      "cell_type": "code",
      "source": [
        "classifier = pipeline(\"text-classification\", model = model, tokenizer=tokenizer, device=0)"
      ],
      "metadata": {
        "id": "Hhbo_McE7BaU"
      },
      "execution_count": 27,
      "outputs": []
    },
    {
      "cell_type": "markdown",
      "source": [
        "### Preparación del modelo Transformers de preguntas y respuestas "
      ],
      "metadata": {
        "id": "cvjfpL1gQ9wp"
      }
    },
    {
      "cell_type": "code",
      "source": [
        "nlp_qa = pipeline('question-answering', \n",
        "        model='mrm8488/distill-bert-base-spanish-wwm-cased-finetuned-spa-squad2-es',\n",
        "        tokenizer=('mrm8488/distill-bert-base-spanish-wwm-cased-finetuned-spa-squad2-es', {\"use_fast\": False})\n",
        "    )"
      ],
      "metadata": {
        "colab": {
          "base_uri": "https://localhost:8080/",
          "height": 0
        },
        "id": "WEQ7Z9a-RANo",
        "outputId": "b2c9bb91-9ba8-4bc4-8c55-b433f6a4630c"
      },
      "execution_count": 28,
      "outputs": [
        {
          "output_type": "stream",
          "name": "stderr",
          "text": [
            "loading configuration file config.json from cache at /root/.cache/huggingface/hub/models--mrm8488--distill-bert-base-spanish-wwm-cased-finetuned-spa-squad2-es/snapshots/a8842522e00a16b382c875ecb2da2dd8cf7cf5b6/config.json\n",
            "Model config BertConfig {\n",
            "  \"_name_or_path\": \"mrm8488/distill-bert-base-spanish-wwm-cased-finetuned-spa-squad2-es\",\n",
            "  \"architectures\": [\n",
            "    \"BertForQuestionAnswering\"\n",
            "  ],\n",
            "  \"attention_probs_dropout_prob\": 0.1,\n",
            "  \"classifier_dropout\": null,\n",
            "  \"hidden_act\": \"gelu\",\n",
            "  \"hidden_dropout_prob\": 0.1,\n",
            "  \"hidden_size\": 768,\n",
            "  \"initializer_range\": 0.02,\n",
            "  \"intermediate_size\": 3072,\n",
            "  \"layer_norm_eps\": 1e-12,\n",
            "  \"max_position_embeddings\": 512,\n",
            "  \"model_type\": \"bert\",\n",
            "  \"num_attention_heads\": 12,\n",
            "  \"num_hidden_layers\": 12,\n",
            "  \"output_past\": true,\n",
            "  \"pad_token_id\": 1,\n",
            "  \"position_embedding_type\": \"absolute\",\n",
            "  \"transformers_version\": \"4.25.1\",\n",
            "  \"type_vocab_size\": 2,\n",
            "  \"use_cache\": true,\n",
            "  \"vocab_size\": 31002\n",
            "}\n",
            "\n",
            "loading configuration file config.json from cache at /root/.cache/huggingface/hub/models--mrm8488--distill-bert-base-spanish-wwm-cased-finetuned-spa-squad2-es/snapshots/a8842522e00a16b382c875ecb2da2dd8cf7cf5b6/config.json\n",
            "Model config BertConfig {\n",
            "  \"_name_or_path\": \"mrm8488/distill-bert-base-spanish-wwm-cased-finetuned-spa-squad2-es\",\n",
            "  \"architectures\": [\n",
            "    \"BertForQuestionAnswering\"\n",
            "  ],\n",
            "  \"attention_probs_dropout_prob\": 0.1,\n",
            "  \"classifier_dropout\": null,\n",
            "  \"hidden_act\": \"gelu\",\n",
            "  \"hidden_dropout_prob\": 0.1,\n",
            "  \"hidden_size\": 768,\n",
            "  \"initializer_range\": 0.02,\n",
            "  \"intermediate_size\": 3072,\n",
            "  \"layer_norm_eps\": 1e-12,\n",
            "  \"max_position_embeddings\": 512,\n",
            "  \"model_type\": \"bert\",\n",
            "  \"num_attention_heads\": 12,\n",
            "  \"num_hidden_layers\": 12,\n",
            "  \"output_past\": true,\n",
            "  \"pad_token_id\": 1,\n",
            "  \"position_embedding_type\": \"absolute\",\n",
            "  \"transformers_version\": \"4.25.1\",\n",
            "  \"type_vocab_size\": 2,\n",
            "  \"use_cache\": true,\n",
            "  \"vocab_size\": 31002\n",
            "}\n",
            "\n",
            "loading weights file pytorch_model.bin from cache at /root/.cache/huggingface/hub/models--mrm8488--distill-bert-base-spanish-wwm-cased-finetuned-spa-squad2-es/snapshots/a8842522e00a16b382c875ecb2da2dd8cf7cf5b6/pytorch_model.bin\n",
            "All model checkpoint weights were used when initializing BertForQuestionAnswering.\n",
            "\n",
            "All the weights of BertForQuestionAnswering were initialized from the model checkpoint at mrm8488/distill-bert-base-spanish-wwm-cased-finetuned-spa-squad2-es.\n",
            "If your task is similar to the task the model of the checkpoint was trained on, you can already use BertForQuestionAnswering for predictions without further training.\n",
            "loading configuration file config.json from cache at /root/.cache/huggingface/hub/models--mrm8488--distill-bert-base-spanish-wwm-cased-finetuned-spa-squad2-es/snapshots/a8842522e00a16b382c875ecb2da2dd8cf7cf5b6/config.json\n",
            "Model config BertConfig {\n",
            "  \"_name_or_path\": \"mrm8488/distill-bert-base-spanish-wwm-cased-finetuned-spa-squad2-es\",\n",
            "  \"architectures\": [\n",
            "    \"BertForQuestionAnswering\"\n",
            "  ],\n",
            "  \"attention_probs_dropout_prob\": 0.1,\n",
            "  \"classifier_dropout\": null,\n",
            "  \"hidden_act\": \"gelu\",\n",
            "  \"hidden_dropout_prob\": 0.1,\n",
            "  \"hidden_size\": 768,\n",
            "  \"initializer_range\": 0.02,\n",
            "  \"intermediate_size\": 3072,\n",
            "  \"layer_norm_eps\": 1e-12,\n",
            "  \"max_position_embeddings\": 512,\n",
            "  \"model_type\": \"bert\",\n",
            "  \"num_attention_heads\": 12,\n",
            "  \"num_hidden_layers\": 12,\n",
            "  \"output_past\": true,\n",
            "  \"pad_token_id\": 1,\n",
            "  \"position_embedding_type\": \"absolute\",\n",
            "  \"transformers_version\": \"4.25.1\",\n",
            "  \"type_vocab_size\": 2,\n",
            "  \"use_cache\": true,\n",
            "  \"vocab_size\": 31002\n",
            "}\n",
            "\n",
            "loading file vocab.txt from cache at /root/.cache/huggingface/hub/models--mrm8488--distill-bert-base-spanish-wwm-cased-finetuned-spa-squad2-es/snapshots/a8842522e00a16b382c875ecb2da2dd8cf7cf5b6/vocab.txt\n",
            "loading file added_tokens.json from cache at None\n",
            "loading file special_tokens_map.json from cache at /root/.cache/huggingface/hub/models--mrm8488--distill-bert-base-spanish-wwm-cased-finetuned-spa-squad2-es/snapshots/a8842522e00a16b382c875ecb2da2dd8cf7cf5b6/special_tokens_map.json\n",
            "loading file tokenizer_config.json from cache at /root/.cache/huggingface/hub/models--mrm8488--distill-bert-base-spanish-wwm-cased-finetuned-spa-squad2-es/snapshots/a8842522e00a16b382c875ecb2da2dd8cf7cf5b6/tokenizer_config.json\n",
            "loading configuration file config.json from cache at /root/.cache/huggingface/hub/models--mrm8488--distill-bert-base-spanish-wwm-cased-finetuned-spa-squad2-es/snapshots/a8842522e00a16b382c875ecb2da2dd8cf7cf5b6/config.json\n",
            "Model config BertConfig {\n",
            "  \"_name_or_path\": \"mrm8488/distill-bert-base-spanish-wwm-cased-finetuned-spa-squad2-es\",\n",
            "  \"architectures\": [\n",
            "    \"BertForQuestionAnswering\"\n",
            "  ],\n",
            "  \"attention_probs_dropout_prob\": 0.1,\n",
            "  \"classifier_dropout\": null,\n",
            "  \"hidden_act\": \"gelu\",\n",
            "  \"hidden_dropout_prob\": 0.1,\n",
            "  \"hidden_size\": 768,\n",
            "  \"initializer_range\": 0.02,\n",
            "  \"intermediate_size\": 3072,\n",
            "  \"layer_norm_eps\": 1e-12,\n",
            "  \"max_position_embeddings\": 512,\n",
            "  \"model_type\": \"bert\",\n",
            "  \"num_attention_heads\": 12,\n",
            "  \"num_hidden_layers\": 12,\n",
            "  \"output_past\": true,\n",
            "  \"pad_token_id\": 1,\n",
            "  \"position_embedding_type\": \"absolute\",\n",
            "  \"transformers_version\": \"4.25.1\",\n",
            "  \"type_vocab_size\": 2,\n",
            "  \"use_cache\": true,\n",
            "  \"vocab_size\": 31002\n",
            "}\n",
            "\n"
          ]
        }
      ]
    },
    {
      "cell_type": "markdown",
      "source": [
        "## Chat Bot con Transformers"
      ],
      "metadata": {
        "id": "y_hfahJMRDal"
      }
    },
    {
      "cell_type": "markdown",
      "source": [
        "#### Se crean funciones necesarias para el chatbot con transformers"
      ],
      "metadata": {
        "id": "fNnMrozNDBuB"
      }
    },
    {
      "cell_type": "code",
      "source": [
        "def classify(mensaje):\n",
        "    tokens = preprocessor(mensaje)\n",
        "    vector = vectorizer(tokens,model).reshape(1, -1)\n",
        "    return clf.predict(vector)[0] \n",
        "\n",
        "def normalize(data) :\n",
        "    # Normalizar los vectores para que sean unitarios\n",
        "    norm = np.sqrt(np.sum(np.square(data), axis=1))\n",
        "    norm = np.expand_dims(norm, 0)        \n",
        "    data = data / np.transpose(norm)\n",
        "    return data\n",
        "\n",
        "def query(fv, query):\n",
        "    # Retorna un ranking de las preguntas y respuestas más similares\n",
        "    normalized_fv = normalize(fv)\n",
        "    normalized_query = normalize(query)\n",
        "    sim=cosine_similarity(normalized_query, normalized_fv)\n",
        "    idx_sorted = np.argsort(-sim, axis=-1)\n",
        "    return idx_sorted\n",
        "\n",
        "def get_answers(conext, question):\n",
        "    best_score=-10\n",
        "    best_answer={}\n",
        "    for text in conext.RESPUESTA:\n",
        "      answer=nlp_qa({'question': question, 'context': text})\n",
        "      if answer['score']>best_score:\n",
        "        best_answer={'start':answer['start'], 'end':answer['end'], 'text':text}\n",
        "        best_score=answer['score']\n",
        "    return best_answer\n",
        "\n",
        "def question_the_robot(message):\n",
        "    # Recupera las respuesta mas similar a la pregunta del humano\n",
        "    message_class_label=int(classifier(message)[0]['label'][6:])# Clasificamos la pregunta, con el modelo transformer\n",
        "    message_class=clases.loc[message_class_label].CLASE #decodifica el label del transformer en las clases definidas en los mensajes de entrada\n",
        "    if message_class=='informacion': # si la clase es informacion, buscara las respuestas mas similares y dentro de ellas con transformes se dara una respuesta\n",
        "        tablaQA_all=tablaQA.PREGUNTA.str.cat(tablaQA.RESPUESTA) # une las preguntas y las respuestas de la tablaQA\n",
        "        features = np.zeros(shape=(len(tablaQA_all),model_w2v.wv.vectors.shape[1])) #vectoriza la tablaQA\n",
        "        for i,tex in enumerate(tablaQA_all): #vectoriza la tablaQA\n",
        "          features[i,:] = vectorizer(preprocessor(tex),model_w2v) #vectoriza la tablaQA\n",
        "        vector_message = vectorizer(preprocessor(message),model_w2v).reshape(1, -1) # se vectoriza el mensaje o pregunta\n",
        "        ranking = query(features, vector_message)# ranking con de respuestas mas similares\n",
        "        bests_answers= pd.DataFrame(tablaQA.iloc[ranking[0][0:3]].RESPUESTA) # obtiene las 3 mejores respuestas\n",
        "        best_answer=get_answers(bests_answers,message ) # onbtiene la mejor respuesta con el tranformer\n",
        "        text=best_answer['text']\n",
        "        start=best_answer['start']\n",
        "        end=best_answer['end']\n",
        "        return f'{text[:start]}{Fore.RED}{text[start:end]}{Style.RESET_ALL}{text[end:]}'\n",
        "    else:\n",
        "        response_class=respuestas_salida[respuestas_salida.CLASE==message_class].reset_index(drop=True)\n",
        "        features = np.zeros(shape=(len(response_class),model_w2v.wv.vectors.shape[1]))\n",
        "        for i,RESPUESTA in enumerate(response_class.RESPUESTA):\n",
        "          features[i,:] = vectorizer(preprocessor(RESPUESTA),model_w2v)\n",
        "        vector_message = vectorizer(preprocessor(message),model_w2v).reshape(1, -1)\n",
        "        ranking = query(features, vector_message)\n",
        "        return response_class.loc[ranking[0][random.randrange(0, 2)]][0]"
      ],
      "metadata": {
        "id": "dsEwnIIqRXwV"
      },
      "execution_count": 29,
      "outputs": []
    },
    {
      "cell_type": "markdown",
      "source": [
        "####Rutina para consultar a Chatbot"
      ],
      "metadata": {
        "id": "4j0syqYjF9U0"
      }
    },
    {
      "cell_type": "markdown",
      "source": [
        "####conjunto de preguntas de pruebas"
      ],
      "metadata": {
        "id": "LDOW_Jb5DRIS"
      }
    },
    {
      "cell_type": "code",
      "source": [
        "print(\"=========================Chat Bot==========================\")\n",
        "message='Hola, cómo estás'\n",
        "print(f\"- Humano : {message}. \\n+ Bot    : {question_the_robot(message)}.\")\n",
        "print(\"===========================================================\")\n",
        "message='Cómo te llamas'\n",
        "print(f\"- Humano : {message}. \\n+ Bot    : {question_the_robot(message)}.\")\n",
        "print(\"===========================================================\")\n",
        "message='que hago si olvide la clave unica'\n",
        "print(f\"- Humano : {message}. \\n+ Bot    : {question_the_robot(message)}.\")\n",
        "print(\"===========================================================\")\n",
        "message='cómo ingreso un escrito?'\n",
        "print(f\"- Humano : {message}. \\n+ Bot    : {question_the_robot(message)}.\")\n",
        "print(\"===========================================================\")\n",
        "message='que es la ley de tramitacion electronica?'\n",
        "print(f\"- Humano : {message}. \\n+ Bot    : {question_the_robot(message)}.\")\n",
        "print(\"===========================================================\")\n",
        "message='como puedo revisar mis causas?'\n",
        "print(f\"- Humano : {message}. \\n+ Bot    : {question_the_robot(message)}.\")\n",
        "print(\"===========================================================\")\n",
        "message='Hasta luego muchas gracias por su ayuda'\n",
        "print(f\"- Humano : {message}. \\n+ Bot    : {question_the_robot(message)}.\")\n",
        "print(\"===========================================================\")"
      ],
      "metadata": {
        "colab": {
          "base_uri": "https://localhost:8080/",
          "height": 0
        },
        "id": "Bwg-3XpeDPfg",
        "outputId": "91c7a93c-9435-4472-9d4e-4bdde07da44c"
      },
      "execution_count": 30,
      "outputs": [
        {
          "output_type": "stream",
          "name": "stdout",
          "text": [
            "=========================Chat Bot==========================\n",
            "- Humano : Hola, cómo estás. \n",
            "+ Bot    : Hola muy bien y usted.\n",
            "===========================================================\n",
            "- Humano : Cómo te llamas. \n",
            "+ Bot    : Robotin es mi nombre, cómo puedo ayudarle.\n",
            "===========================================================\n",
            "- Humano : que hago si olvide la clave unica. \n",
            "+ Bot    : Si el usuario no recuerda su Clave Única \u001b[31mdebe recuperarla en el sitio web de Registro Civil e Identificación,\u001b[0m mediante las opciones que ahí se entregan, como correo electrónico o preguntas secretas que el usuario completó al activar su Clave..\n",
            "===========================================================\n",
            "- Humano : cómo ingreso un escrito?. \n",
            "+ Bot    : Existen dos canales para resolver sus dudas:\n",
            "- A través de un formulario escrito que se encuentra disponible en la opción de contacto de la \u001b[31mOficina Judicial Virtual\u001b[0m y en la página www.tramitacionelectrónica.cl\n",
            "- Comunicándose con la Mesa de Ayuda de la Ley de Tramitación Electrónica que el Poder Judicial ha puesto a disposición de sus usuarios, cuyo horario de atención es de lunes a viernes desde 8:00 a 17:00 horas y el número de contacto es 224977040..\n",
            "===========================================================\n",
            "- Humano : que es la ley de tramitacion electronica?. \n",
            "+ Bot    : El Sistema de \u001b[31mtramitación electrónica del Poder Judicial,\u001b[0m numerará automáticamente cada pieza de la carpeta electrónica. Para los expedientes materiales de causas anteriores a la entrada en vigencia de la ley, se continúa realizando la foliación..\n",
            "===========================================================\n",
            "- Humano : como puedo revisar mis causas?. \n",
            "+ Bot    : Debe ingresar a la \u001b[31mOficina Judicial Virtual,\u001b[0m módulo \"Mis Causas\", seleccionando la competencia y tipo de causa, luego el nombre del perfil que desea revisar junto con el estado y/o Rol de la causa.\n",
            "Una causa enviada desde el perfil institucional, puede ser revisada tanto por el administrador del perfil como por las personas agregadas al mismo, siempre y cuando se les conceda el permiso para revisar causas de otras personas del perfil, lo cual se realiza desde la misma ventana en que se crean los perfiles..\n",
            "===========================================================\n",
            "- Humano : Hasta luego muchas gracias por su ayuda. \n",
            "+ Bot    : Hasta pronto.\n",
            "===========================================================\n"
          ]
        }
      ]
    }
  ]
}